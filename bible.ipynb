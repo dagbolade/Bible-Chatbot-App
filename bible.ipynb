{
 "cells": [
  {
   "cell_type": "code",
   "execution_count": 50,
   "metadata": {
    "collapsed": true
   },
   "outputs": [
    {
     "name": "stderr",
     "output_type": "stream",
     "text": [
      "[nltk_data] Downloading package punkt to\n",
      "[nltk_data]     C:\\Users\\dagbo\\AppData\\Roaming\\nltk_data...\n",
      "[nltk_data]   Package punkt is already up-to-date!\n"
     ]
    },
    {
     "data": {
      "text/plain": "True"
     },
     "execution_count": 50,
     "metadata": {},
     "output_type": "execute_result"
    }
   ],
   "source": [
    "from nltk.tokenize import punkt\n",
    "import pandas as pd\n",
    "import numpy\n",
    "import sklearn\n",
    "import nltk\n",
    "nltk.download('punkt')"
   ]
  },
  {
   "cell_type": "code",
   "execution_count": 51,
   "outputs": [
    {
     "name": "stdout",
     "output_type": "stream",
     "text": [
      "               citation        book  chapter  verse  \\\n",
      "0           Genesis 1:1     Genesis        1      1   \n",
      "1           Genesis 1:2     Genesis        1      2   \n",
      "2           Genesis 1:3     Genesis        1      3   \n",
      "3           Genesis 1:4     Genesis        1      4   \n",
      "4           Genesis 1:5     Genesis        1      5   \n",
      "...                 ...         ...      ...    ...   \n",
      "31097  Revelation 22:17  Revelation       22     17   \n",
      "31098  Revelation 22:18  Revelation       22     18   \n",
      "31099  Revelation 22:19  Revelation       22     19   \n",
      "31100  Revelation 22:20  Revelation       22     20   \n",
      "31101  Revelation 22:21  Revelation       22     21   \n",
      "\n",
      "                                                    text  \n",
      "0      In the beginning God created the heaven and th...  \n",
      "1      And the earth was without form, and void; and ...  \n",
      "2      And God said, Let there be light: and there wa...  \n",
      "3      And God saw the light, that it was good: and G...  \n",
      "4      And God called the light Day, and the darkness...  \n",
      "...                                                  ...  \n",
      "31097  And the Spirit and the bride say, Come. And le...  \n",
      "31098  For I testify unto every man that heareth the ...  \n",
      "31099  And if any man shall take away from the words ...  \n",
      "31100  He which testifieth these things saith, Surely...  \n",
      "31101  The grace of our Lord Jesus Christ be with you...  \n",
      "\n",
      "[31102 rows x 5 columns]\n"
     ]
    }
   ],
   "source": [
    "bible_df = pd.read_csv(r\"bible_data_set.csv\")\n",
    "print(bible_df)"
   ],
   "metadata": {
    "collapsed": false
   }
  },
  {
   "cell_type": "code",
   "execution_count": 52,
   "outputs": [
    {
     "data": {
      "text/plain": "citation    object\nbook        object\nchapter      int64\nverse        int64\ntext        object\ndtype: object"
     },
     "execution_count": 52,
     "metadata": {},
     "output_type": "execute_result"
    }
   ],
   "source": [
    "bible_df.head(5)\n",
    "bible_df.dtypes"
   ],
   "metadata": {
    "collapsed": false
   }
  },
  {
   "cell_type": "code",
   "execution_count": 53,
   "outputs": [
    {
     "name": "stdout",
     "output_type": "stream",
     "text": [
      "Empty DataFrame\n",
      "Columns: [citation, book, chapter, verse, text]\n",
      "Index: []\n",
      "<class 'pandas.core.frame.DataFrame'>\n",
      "RangeIndex: 31102 entries, 0 to 31101\n",
      "Data columns (total 5 columns):\n",
      " #   Column    Non-Null Count  Dtype \n",
      "---  ------    --------------  ----- \n",
      " 0   citation  31102 non-null  object\n",
      " 1   book      31102 non-null  object\n",
      " 2   chapter   31102 non-null  int64 \n",
      " 3   verse     31102 non-null  int64 \n",
      " 4   text      31102 non-null  object\n",
      "dtypes: int64(2), object(3)\n",
      "memory usage: 1.2+ MB\n",
      "(31102, 5)\n"
     ]
    }
   ],
   "source": [
    "#check if the dataset has a null data\n",
    "\n",
    "missing_data = bible_df[bible_df.isna().any(axis=1)]\n",
    "print(missing_data)\n",
    "bible_df.info()\n",
    "print(bible_df.shape)"
   ],
   "metadata": {
    "collapsed": false
   }
  },
  {
   "cell_type": "code",
   "execution_count": 54,
   "outputs": [],
   "source": [
    "# drop rows with missing data\n",
    "bible_df.dropna(inplace=True)\n",
    "\n",
    "# check for and remove duplicates\n",
    "bible_df.drop_duplicates(inplace=True)"
   ],
   "metadata": {
    "collapsed": false
   }
  },
  {
   "cell_type": "markdown",
   "source": [
    "Normalizing the text"
   ],
   "metadata": {
    "collapsed": false
   }
  },
  {
   "cell_type": "code",
   "execution_count": 55,
   "outputs": [
    {
     "name": "stderr",
     "output_type": "stream",
     "text": [
      "C:\\Users\\dagbo\\AppData\\Local\\Temp\\ipykernel_17216\\1013841498.py:5: FutureWarning: The default value of regex will change from True to False in a future version.\n",
      "  bible_df[\"text\"] = bible_df[\"text\"].str.replace('[^a-zA-Z]', ' ')\n"
     ]
    }
   ],
   "source": [
    "# convert all text to lowercase\n",
    "bible_df[\"text\"] = bible_df[\"text\"].str.lower()\n",
    "\n",
    "# remove special characters and numbers\n",
    "bible_df[\"text\"] = bible_df[\"text\"].str.replace('[^a-zA-Z]', ' ')"
   ],
   "metadata": {
    "collapsed": false
   }
  },
  {
   "cell_type": "markdown",
   "source": [
    "tokenize the text"
   ],
   "metadata": {
    "collapsed": false
   }
  },
  {
   "cell_type": "code",
   "execution_count": 58,
   "outputs": [
    {
     "name": "stderr",
     "output_type": "stream",
     "text": [
      "[nltk_data] Downloading package punkt to\n",
      "[nltk_data]     C:\\Users\\dagbo\\AppData\\Roaming\\nltk_data...\n",
      "[nltk_data]   Package punkt is already up-to-date!\n"
     ]
    }
   ],
   "source": [
    "import nltk\n",
    "nltk.download('punkt')\n",
    "from nltk.tokenize import word_tokenize\n",
    "# tokenize the text\n",
    "bible_df[\"text\"] = bible_df[\"text\"].apply(word_tokenize)"
   ],
   "metadata": {
    "collapsed": false
   }
  },
  {
   "cell_type": "code",
   "execution_count": 59,
   "outputs": [
    {
     "data": {
      "text/plain": "               citation        book  chapter  verse  \\\n0           Genesis 1:1     Genesis        1      1   \n1           Genesis 1:2     Genesis        1      2   \n2           Genesis 1:3     Genesis        1      3   \n3           Genesis 1:4     Genesis        1      4   \n4           Genesis 1:5     Genesis        1      5   \n...                 ...         ...      ...    ...   \n31097  Revelation 22:17  Revelation       22     17   \n31098  Revelation 22:18  Revelation       22     18   \n31099  Revelation 22:19  Revelation       22     19   \n31100  Revelation 22:20  Revelation       22     20   \n31101  Revelation 22:21  Revelation       22     21   \n\n                                                    text  \n0      [in, the, beginning, god, created, the, heaven...  \n1      [and, the, earth, was, without, form, and, voi...  \n2      [and, god, said, let, there, be, light, and, t...  \n3      [and, god, saw, the, light, that, it, was, goo...  \n4      [and, god, called, the, light, day, and, the, ...  \n...                                                  ...  \n31097  [and, the, spirit, and, the, bride, say, come,...  \n31098  [for, i, testify, unto, every, man, that, hear...  \n31099  [and, if, any, man, shall, take, away, from, t...  \n31100  [he, which, testifieth, these, things, saith, ...  \n31101  [the, grace, of, our, lord, jesus, christ, be,...  \n\n[31102 rows x 5 columns]",
      "text/html": "<div>\n<style scoped>\n    .dataframe tbody tr th:only-of-type {\n        vertical-align: middle;\n    }\n\n    .dataframe tbody tr th {\n        vertical-align: top;\n    }\n\n    .dataframe thead th {\n        text-align: right;\n    }\n</style>\n<table border=\"1\" class=\"dataframe\">\n  <thead>\n    <tr style=\"text-align: right;\">\n      <th></th>\n      <th>citation</th>\n      <th>book</th>\n      <th>chapter</th>\n      <th>verse</th>\n      <th>text</th>\n    </tr>\n  </thead>\n  <tbody>\n    <tr>\n      <th>0</th>\n      <td>Genesis 1:1</td>\n      <td>Genesis</td>\n      <td>1</td>\n      <td>1</td>\n      <td>[in, the, beginning, god, created, the, heaven...</td>\n    </tr>\n    <tr>\n      <th>1</th>\n      <td>Genesis 1:2</td>\n      <td>Genesis</td>\n      <td>1</td>\n      <td>2</td>\n      <td>[and, the, earth, was, without, form, and, voi...</td>\n    </tr>\n    <tr>\n      <th>2</th>\n      <td>Genesis 1:3</td>\n      <td>Genesis</td>\n      <td>1</td>\n      <td>3</td>\n      <td>[and, god, said, let, there, be, light, and, t...</td>\n    </tr>\n    <tr>\n      <th>3</th>\n      <td>Genesis 1:4</td>\n      <td>Genesis</td>\n      <td>1</td>\n      <td>4</td>\n      <td>[and, god, saw, the, light, that, it, was, goo...</td>\n    </tr>\n    <tr>\n      <th>4</th>\n      <td>Genesis 1:5</td>\n      <td>Genesis</td>\n      <td>1</td>\n      <td>5</td>\n      <td>[and, god, called, the, light, day, and, the, ...</td>\n    </tr>\n    <tr>\n      <th>...</th>\n      <td>...</td>\n      <td>...</td>\n      <td>...</td>\n      <td>...</td>\n      <td>...</td>\n    </tr>\n    <tr>\n      <th>31097</th>\n      <td>Revelation 22:17</td>\n      <td>Revelation</td>\n      <td>22</td>\n      <td>17</td>\n      <td>[and, the, spirit, and, the, bride, say, come,...</td>\n    </tr>\n    <tr>\n      <th>31098</th>\n      <td>Revelation 22:18</td>\n      <td>Revelation</td>\n      <td>22</td>\n      <td>18</td>\n      <td>[for, i, testify, unto, every, man, that, hear...</td>\n    </tr>\n    <tr>\n      <th>31099</th>\n      <td>Revelation 22:19</td>\n      <td>Revelation</td>\n      <td>22</td>\n      <td>19</td>\n      <td>[and, if, any, man, shall, take, away, from, t...</td>\n    </tr>\n    <tr>\n      <th>31100</th>\n      <td>Revelation 22:20</td>\n      <td>Revelation</td>\n      <td>22</td>\n      <td>20</td>\n      <td>[he, which, testifieth, these, things, saith, ...</td>\n    </tr>\n    <tr>\n      <th>31101</th>\n      <td>Revelation 22:21</td>\n      <td>Revelation</td>\n      <td>22</td>\n      <td>21</td>\n      <td>[the, grace, of, our, lord, jesus, christ, be,...</td>\n    </tr>\n  </tbody>\n</table>\n<p>31102 rows × 5 columns</p>\n</div>"
     },
     "execution_count": 59,
     "metadata": {},
     "output_type": "execute_result"
    }
   ],
   "source": [
    "bible_df"
   ],
   "metadata": {
    "collapsed": false
   }
  },
  {
   "cell_type": "markdown",
   "source": [
    "Stemming and lemmatizing the dataset"
   ],
   "metadata": {
    "collapsed": false
   }
  },
  {
   "cell_type": "code",
   "execution_count": 62,
   "outputs": [
    {
     "name": "stderr",
     "output_type": "stream",
     "text": [
      "[nltk_data] Downloading package wordnet to\n",
      "[nltk_data]     C:\\Users\\dagbo\\AppData\\Roaming\\nltk_data...\n",
      "[nltk_data]   Package wordnet is already up-to-date!\n",
      "[nltk_data] Downloading package omw-1.4 to\n",
      "[nltk_data]     C:\\Users\\dagbo\\AppData\\Roaming\\nltk_data...\n"
     ]
    }
   ],
   "source": [
    "from nltk.stem import PorterStemmer, WordNetLemmatizer\n",
    "\n",
    "nltk.download('wordnet')\n",
    "nltk.download('omw-1.4')\n",
    "\n",
    "stemmer = PorterStemmer()\n",
    "lemmatizer = WordNetLemmatizer()\n",
    "bible_df[\"text\"] = bible_df[\"text\"].apply(lambda x: [stemmer.stem(word) for word in x])\n",
    "bible_df[\"text\"] = bible_df[\"text\"].apply(lambda x: [lemmatizer.lemmatize(word) for word in x])"
   ],
   "metadata": {
    "collapsed": false
   }
  },
  {
   "cell_type": "code",
   "execution_count": 63,
   "outputs": [
    {
     "data": {
      "text/plain": "               citation        book  chapter  verse  \\\n0           Genesis 1:1     Genesis        1      1   \n1           Genesis 1:2     Genesis        1      2   \n2           Genesis 1:3     Genesis        1      3   \n3           Genesis 1:4     Genesis        1      4   \n4           Genesis 1:5     Genesis        1      5   \n...                 ...         ...      ...    ...   \n31097  Revelation 22:17  Revelation       22     17   \n31098  Revelation 22:18  Revelation       22     18   \n31099  Revelation 22:19  Revelation       22     19   \n31100  Revelation 22:20  Revelation       22     20   \n31101  Revelation 22:21  Revelation       22     21   \n\n                                                    text  \n0      [in, the, begin, god, creat, the, heaven, and,...  \n1      [and, the, earth, wa, without, form, and, void...  \n2      [and, god, said, let, there, be, light, and, t...  \n3      [and, god, saw, the, light, that, it, wa, good...  \n4      [and, god, call, the, light, day, and, the, da...  \n...                                                  ...  \n31097  [and, the, spirit, and, the, bride, say, come,...  \n31098  [for, i, testifi, unto, everi, man, that, hear...  \n31099  [and, if, ani, man, shall, take, away, from, t...  \n31100  [he, which, testifieth, these, thing, saith, s...  \n31101  [the, grace, of, our, lord, jesu, christ, be, ...  \n\n[31102 rows x 5 columns]",
      "text/html": "<div>\n<style scoped>\n    .dataframe tbody tr th:only-of-type {\n        vertical-align: middle;\n    }\n\n    .dataframe tbody tr th {\n        vertical-align: top;\n    }\n\n    .dataframe thead th {\n        text-align: right;\n    }\n</style>\n<table border=\"1\" class=\"dataframe\">\n  <thead>\n    <tr style=\"text-align: right;\">\n      <th></th>\n      <th>citation</th>\n      <th>book</th>\n      <th>chapter</th>\n      <th>verse</th>\n      <th>text</th>\n    </tr>\n  </thead>\n  <tbody>\n    <tr>\n      <th>0</th>\n      <td>Genesis 1:1</td>\n      <td>Genesis</td>\n      <td>1</td>\n      <td>1</td>\n      <td>[in, the, begin, god, creat, the, heaven, and,...</td>\n    </tr>\n    <tr>\n      <th>1</th>\n      <td>Genesis 1:2</td>\n      <td>Genesis</td>\n      <td>1</td>\n      <td>2</td>\n      <td>[and, the, earth, wa, without, form, and, void...</td>\n    </tr>\n    <tr>\n      <th>2</th>\n      <td>Genesis 1:3</td>\n      <td>Genesis</td>\n      <td>1</td>\n      <td>3</td>\n      <td>[and, god, said, let, there, be, light, and, t...</td>\n    </tr>\n    <tr>\n      <th>3</th>\n      <td>Genesis 1:4</td>\n      <td>Genesis</td>\n      <td>1</td>\n      <td>4</td>\n      <td>[and, god, saw, the, light, that, it, wa, good...</td>\n    </tr>\n    <tr>\n      <th>4</th>\n      <td>Genesis 1:5</td>\n      <td>Genesis</td>\n      <td>1</td>\n      <td>5</td>\n      <td>[and, god, call, the, light, day, and, the, da...</td>\n    </tr>\n    <tr>\n      <th>...</th>\n      <td>...</td>\n      <td>...</td>\n      <td>...</td>\n      <td>...</td>\n      <td>...</td>\n    </tr>\n    <tr>\n      <th>31097</th>\n      <td>Revelation 22:17</td>\n      <td>Revelation</td>\n      <td>22</td>\n      <td>17</td>\n      <td>[and, the, spirit, and, the, bride, say, come,...</td>\n    </tr>\n    <tr>\n      <th>31098</th>\n      <td>Revelation 22:18</td>\n      <td>Revelation</td>\n      <td>22</td>\n      <td>18</td>\n      <td>[for, i, testifi, unto, everi, man, that, hear...</td>\n    </tr>\n    <tr>\n      <th>31099</th>\n      <td>Revelation 22:19</td>\n      <td>Revelation</td>\n      <td>22</td>\n      <td>19</td>\n      <td>[and, if, ani, man, shall, take, away, from, t...</td>\n    </tr>\n    <tr>\n      <th>31100</th>\n      <td>Revelation 22:20</td>\n      <td>Revelation</td>\n      <td>22</td>\n      <td>20</td>\n      <td>[he, which, testifieth, these, thing, saith, s...</td>\n    </tr>\n    <tr>\n      <th>31101</th>\n      <td>Revelation 22:21</td>\n      <td>Revelation</td>\n      <td>22</td>\n      <td>21</td>\n      <td>[the, grace, of, our, lord, jesu, christ, be, ...</td>\n    </tr>\n  </tbody>\n</table>\n<p>31102 rows × 5 columns</p>\n</div>"
     },
     "execution_count": 63,
     "metadata": {},
     "output_type": "execute_result"
    }
   ],
   "source": [
    "bible_df"
   ],
   "metadata": {
    "collapsed": false
   }
  },
  {
   "cell_type": "markdown",
   "source": [
    "Encoding categorical variables"
   ],
   "metadata": {
    "collapsed": false
   }
  },
  {
   "cell_type": "code",
   "execution_count": 64,
   "outputs": [],
   "source": [
    "from sklearn.preprocessing import LabelEncoder\n",
    "# encode categorical variable 'book'\n",
    "le = LabelEncoder()\n",
    "bible_df[\"book\"] = le.fit_transform(bible_df[\"book\"])"
   ],
   "metadata": {
    "collapsed": false
   }
  },
  {
   "cell_type": "code",
   "execution_count": 65,
   "outputs": [
    {
     "data": {
      "text/plain": "               citation  book  chapter  verse  \\\n0           Genesis 1:1    29        1      1   \n1           Genesis 1:2    29        1      2   \n2           Genesis 1:3    29        1      3   \n3           Genesis 1:4    29        1      4   \n4           Genesis 1:5    29        1      5   \n...                 ...   ...      ...    ...   \n31097  Revelation 22:17    59       22     17   \n31098  Revelation 22:18    59       22     18   \n31099  Revelation 22:19    59       22     19   \n31100  Revelation 22:20    59       22     20   \n31101  Revelation 22:21    59       22     21   \n\n                                                    text  \n0      [in, the, begin, god, creat, the, heaven, and,...  \n1      [and, the, earth, wa, without, form, and, void...  \n2      [and, god, said, let, there, be, light, and, t...  \n3      [and, god, saw, the, light, that, it, wa, good...  \n4      [and, god, call, the, light, day, and, the, da...  \n...                                                  ...  \n31097  [and, the, spirit, and, the, bride, say, come,...  \n31098  [for, i, testifi, unto, everi, man, that, hear...  \n31099  [and, if, ani, man, shall, take, away, from, t...  \n31100  [he, which, testifieth, these, thing, saith, s...  \n31101  [the, grace, of, our, lord, jesu, christ, be, ...  \n\n[31102 rows x 5 columns]",
      "text/html": "<div>\n<style scoped>\n    .dataframe tbody tr th:only-of-type {\n        vertical-align: middle;\n    }\n\n    .dataframe tbody tr th {\n        vertical-align: top;\n    }\n\n    .dataframe thead th {\n        text-align: right;\n    }\n</style>\n<table border=\"1\" class=\"dataframe\">\n  <thead>\n    <tr style=\"text-align: right;\">\n      <th></th>\n      <th>citation</th>\n      <th>book</th>\n      <th>chapter</th>\n      <th>verse</th>\n      <th>text</th>\n    </tr>\n  </thead>\n  <tbody>\n    <tr>\n      <th>0</th>\n      <td>Genesis 1:1</td>\n      <td>29</td>\n      <td>1</td>\n      <td>1</td>\n      <td>[in, the, begin, god, creat, the, heaven, and,...</td>\n    </tr>\n    <tr>\n      <th>1</th>\n      <td>Genesis 1:2</td>\n      <td>29</td>\n      <td>1</td>\n      <td>2</td>\n      <td>[and, the, earth, wa, without, form, and, void...</td>\n    </tr>\n    <tr>\n      <th>2</th>\n      <td>Genesis 1:3</td>\n      <td>29</td>\n      <td>1</td>\n      <td>3</td>\n      <td>[and, god, said, let, there, be, light, and, t...</td>\n    </tr>\n    <tr>\n      <th>3</th>\n      <td>Genesis 1:4</td>\n      <td>29</td>\n      <td>1</td>\n      <td>4</td>\n      <td>[and, god, saw, the, light, that, it, wa, good...</td>\n    </tr>\n    <tr>\n      <th>4</th>\n      <td>Genesis 1:5</td>\n      <td>29</td>\n      <td>1</td>\n      <td>5</td>\n      <td>[and, god, call, the, light, day, and, the, da...</td>\n    </tr>\n    <tr>\n      <th>...</th>\n      <td>...</td>\n      <td>...</td>\n      <td>...</td>\n      <td>...</td>\n      <td>...</td>\n    </tr>\n    <tr>\n      <th>31097</th>\n      <td>Revelation 22:17</td>\n      <td>59</td>\n      <td>22</td>\n      <td>17</td>\n      <td>[and, the, spirit, and, the, bride, say, come,...</td>\n    </tr>\n    <tr>\n      <th>31098</th>\n      <td>Revelation 22:18</td>\n      <td>59</td>\n      <td>22</td>\n      <td>18</td>\n      <td>[for, i, testifi, unto, everi, man, that, hear...</td>\n    </tr>\n    <tr>\n      <th>31099</th>\n      <td>Revelation 22:19</td>\n      <td>59</td>\n      <td>22</td>\n      <td>19</td>\n      <td>[and, if, ani, man, shall, take, away, from, t...</td>\n    </tr>\n    <tr>\n      <th>31100</th>\n      <td>Revelation 22:20</td>\n      <td>59</td>\n      <td>22</td>\n      <td>20</td>\n      <td>[he, which, testifieth, these, thing, saith, s...</td>\n    </tr>\n    <tr>\n      <th>31101</th>\n      <td>Revelation 22:21</td>\n      <td>59</td>\n      <td>22</td>\n      <td>21</td>\n      <td>[the, grace, of, our, lord, jesu, christ, be, ...</td>\n    </tr>\n  </tbody>\n</table>\n<p>31102 rows × 5 columns</p>\n</div>"
     },
     "execution_count": 65,
     "metadata": {},
     "output_type": "execute_result"
    }
   ],
   "source": [
    "bible_df"
   ],
   "metadata": {
    "collapsed": false
   }
  },
  {
   "cell_type": "code",
   "execution_count": null,
   "outputs": [],
   "source": [],
   "metadata": {
    "collapsed": false
   }
  }
 ],
 "metadata": {
  "kernelspec": {
   "display_name": "Python 3",
   "language": "python",
   "name": "python3"
  },
  "language_info": {
   "codemirror_mode": {
    "name": "ipython",
    "version": 2
   },
   "file_extension": ".py",
   "mimetype": "text/x-python",
   "name": "python",
   "nbconvert_exporter": "python",
   "pygments_lexer": "ipython2",
   "version": "2.7.6"
  }
 },
 "nbformat": 4,
 "nbformat_minor": 0
}
