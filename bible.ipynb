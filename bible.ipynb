{
 "cells": [
  {
   "cell_type": "code",
   "execution_count": 42,
   "metadata": {
    "collapsed": true
   },
   "outputs": [
    {
     "name": "stderr",
     "output_type": "stream",
     "text": [
      "[nltk_data] Downloading package punkt to\n",
      "[nltk_data]     C:\\Users\\dagbo\\AppData\\Roaming\\nltk_data...\n",
      "[nltk_data]   Package punkt is already up-to-date!\n"
     ]
    },
    {
     "data": {
      "text/plain": "True"
     },
     "execution_count": 42,
     "metadata": {},
     "output_type": "execute_result"
    }
   ],
   "source": [
    "from nltk.tokenize import punkt\n",
    "import pandas as pd\n",
    "import numpy\n",
    "import sklearn\n",
    "import nltk\n",
    "nltk.download('punkt')"
   ]
  },
  {
   "cell_type": "code",
   "execution_count": 32,
   "outputs": [
    {
     "name": "stdout",
     "output_type": "stream",
     "text": [
      "               citation        book  chapter  verse  \\\n",
      "0           Genesis 1:1     Genesis        1      1   \n",
      "1           Genesis 1:2     Genesis        1      2   \n",
      "2           Genesis 1:3     Genesis        1      3   \n",
      "3           Genesis 1:4     Genesis        1      4   \n",
      "4           Genesis 1:5     Genesis        1      5   \n",
      "...                 ...         ...      ...    ...   \n",
      "31097  Revelation 22:17  Revelation       22     17   \n",
      "31098  Revelation 22:18  Revelation       22     18   \n",
      "31099  Revelation 22:19  Revelation       22     19   \n",
      "31100  Revelation 22:20  Revelation       22     20   \n",
      "31101  Revelation 22:21  Revelation       22     21   \n",
      "\n",
      "                                                    text  \n",
      "0      In the beginning God created the heaven and th...  \n",
      "1      And the earth was without form, and void; and ...  \n",
      "2      And God said, Let there be light: and there wa...  \n",
      "3      And God saw the light, that it was good: and G...  \n",
      "4      And God called the light Day, and the darkness...  \n",
      "...                                                  ...  \n",
      "31097  And the Spirit and the bride say, Come. And le...  \n",
      "31098  For I testify unto every man that heareth the ...  \n",
      "31099  And if any man shall take away from the words ...  \n",
      "31100  He which testifieth these things saith, Surely...  \n",
      "31101  The grace of our Lord Jesus Christ be with you...  \n",
      "\n",
      "[31102 rows x 5 columns]\n"
     ]
    }
   ],
   "source": [
    "bible_df = pd.read_csv(r\"bible_data_set.csv\")\n",
    "print(bible_df)"
   ],
   "metadata": {
    "collapsed": false
   }
  },
  {
   "cell_type": "code",
   "execution_count": 33,
   "outputs": [
    {
     "data": {
      "text/plain": "citation    object\nbook        object\nchapter      int64\nverse        int64\ntext        object\ndtype: object"
     },
     "execution_count": 33,
     "metadata": {},
     "output_type": "execute_result"
    }
   ],
   "source": [
    "bible_df.head(5)\n",
    "bible_df.dtypes"
   ],
   "metadata": {
    "collapsed": false
   }
  },
  {
   "cell_type": "code",
   "execution_count": 34,
   "outputs": [
    {
     "name": "stdout",
     "output_type": "stream",
     "text": [
      "Empty DataFrame\n",
      "Columns: [citation, book, chapter, verse, text]\n",
      "Index: []\n",
      "<class 'pandas.core.frame.DataFrame'>\n",
      "RangeIndex: 31102 entries, 0 to 31101\n",
      "Data columns (total 5 columns):\n",
      " #   Column    Non-Null Count  Dtype \n",
      "---  ------    --------------  ----- \n",
      " 0   citation  31102 non-null  object\n",
      " 1   book      31102 non-null  object\n",
      " 2   chapter   31102 non-null  int64 \n",
      " 3   verse     31102 non-null  int64 \n",
      " 4   text      31102 non-null  object\n",
      "dtypes: int64(2), object(3)\n",
      "memory usage: 1.2+ MB\n",
      "(31102, 5)\n"
     ]
    }
   ],
   "source": [
    "#check if the dataset has a null data\n",
    "\n",
    "missing_data = bible_df[bible_df.isna().any(axis=1)]\n",
    "print(missing_data)\n",
    "bible_df.info()\n",
    "print(bible_df.shape)"
   ],
   "metadata": {
    "collapsed": false
   }
  },
  {
   "cell_type": "code",
   "execution_count": 37,
   "outputs": [],
   "source": [
    "# drop rows with missing data\n",
    "bible_df.dropna(inplace=True)\n",
    "\n",
    "# check for and remove duplicates\n",
    "bible_df.drop_duplicates(inplace=True)"
   ],
   "metadata": {
    "collapsed": false
   }
  },
  {
   "cell_type": "markdown",
   "source": [
    "Normalizing the text"
   ],
   "metadata": {
    "collapsed": false
   }
  },
  {
   "cell_type": "code",
   "execution_count": 38,
   "outputs": [
    {
     "name": "stderr",
     "output_type": "stream",
     "text": [
      "C:\\Users\\dagbo\\AppData\\Local\\Temp\\ipykernel_17216\\3968972946.py:5: FutureWarning: The default value of regex will change from True to False in a future version.\n",
      "  bible_df[\"text\"] = bible_df[\"text\"].str.replace('[^a-zA-Z]', ' ')\n"
     ]
    }
   ],
   "source": [
    "# convert all text to lowercase\n",
    "bible_df[\"text\"] = bible_df[\"text\"].str.lower()\n",
    "\n",
    "# remove special characters and numbers\n",
    "bible_df[\"text\"] = bible_df[\"text\"].str.replace('[^a-zA-Z]', ' ')"
   ],
   "metadata": {
    "collapsed": false
   }
  },
  {
   "cell_type": "markdown",
   "source": [
    "tokenize the text"
   ],
   "metadata": {
    "collapsed": false
   }
  },
  {
   "cell_type": "code",
   "execution_count": 41,
   "outputs": [
    {
     "name": "stderr",
     "output_type": "stream",
     "text": [
      "[nltk_data] Downloading package punkt to\n",
      "[nltk_data]     C:\\Users\\dagbo\\AppData\\Roaming\\nltk_data...\n",
      "[nltk_data]   Unzipping tokenizers\\punkt.zip.\n"
     ]
    }
   ],
   "source": [
    "import nltk\n",
    "nltk.download('punkt')\n",
    "from nltk.tokenize import word_tokenize\n",
    "# tokenize the text\n",
    "bible_df[\"text\"] = bible_df[\"text\"].apply(word_tokenize)"
   ],
   "metadata": {
    "collapsed": false
   }
  },
  {
   "cell_type": "code",
   "execution_count": null,
   "outputs": [],
   "source": [],
   "metadata": {
    "collapsed": false
   }
  }
 ],
 "metadata": {
  "kernelspec": {
   "display_name": "Python 3",
   "language": "python",
   "name": "python3"
  },
  "language_info": {
   "codemirror_mode": {
    "name": "ipython",
    "version": 2
   },
   "file_extension": ".py",
   "mimetype": "text/x-python",
   "name": "python",
   "nbconvert_exporter": "python",
   "pygments_lexer": "ipython2",
   "version": "2.7.6"
  }
 },
 "nbformat": 4,
 "nbformat_minor": 0
}
